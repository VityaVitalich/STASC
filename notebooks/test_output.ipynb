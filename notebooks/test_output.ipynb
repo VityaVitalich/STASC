{
 "cells": [
  {
   "cell_type": "code",
   "execution_count": 2,
   "id": "dcc65a45",
   "metadata": {},
   "outputs": [
    {
     "data": {
      "text/plain": [
       "'[\"Step 1: Identify the foreign born victim of Singapore\\'s caning punishment.\\\\nThe foreign born victim was Oliver Fricker.\\\\n\\\\nStep 2: Determine Oliver Fricker\\'s nationality.\\\\nOliver Fricker is British.\\\\n\\\\nStep 3: Confirm that Oliver Fricker was a victim of Singapore\\'s caning punishment.\\\\nOliver Fricker was indeed a victim of Singapore\\'s caning punishment.\\\\n\\\\nStep 4: Conclude with the final answer.\\\\nThe nationality of the foreign born victim of Singapore\\'s caning punishment before Oliver Fricker experienced the same was British.\"]'"
      ]
     },
     "execution_count": 2,
     "metadata": {},
     "output_type": "execute_result"
    }
   ],
   "source": [
    "import pandas as pd\n",
    "import json\n",
    "\n",
    "df = pd.read_csv(\"/ltstorage/home/strich/STASC/logs/test_data_qwen_2.5_1.5b_hotpot_baseline_cot.csv\").head(10)\n",
    "df[\"initial_generation\"][0]  # Display the first initial generation"
   ]
  },
  {
   "cell_type": "code",
   "execution_count": 7,
   "id": "19f118e1",
   "metadata": {},
   "outputs": [
    {
     "data": {
      "text/plain": [
       "\"step 1: identify the context of the question - the question is about the nationality of a foreign-born victim of singapore's caning punishment.\\nstep 2: determine the nationality of the victim - the victim was oliver fricker, a british national.\\nstep 3: confirm the nationality of the foreign-born victim - the foreign-born victim was also oliver fricker, a british national.\\nstep 4: conclude with the final answer - the nationality of the foreign-born victim of singapore's caning punishment before oliver fricker experienced the same was british.\\nfinal answer: british\""
      ]
     },
     "execution_count": 7,
     "metadata": {},
     "output_type": "execute_result"
    }
   ],
   "source": [
    "with open(\"/ltstorage/home/strich/STASC/outputs/25-08-11_18:41_qwen_2.5_1.5b/inference_log.json\", \"r\") as f:\n",
    "    data = json.load(f)\n",
    "\n",
    "df_json = pd.DataFrame(data)\n",
    "df_json[\"response\"][0]  # Display the first response from the JSON data"
   ]
  },
  {
   "cell_type": "code",
   "execution_count": 24,
   "id": "50ed516e",
   "metadata": {},
   "outputs": [
    {
     "data": {
      "application/vnd.microsoft.datawrangler.viewer.v0+json": {
       "columns": [
        {
         "name": "index",
         "rawType": "int64",
         "type": "integer"
        },
        {
         "name": "user_prompt",
         "rawType": "object",
         "type": "string"
        },
        {
         "name": "response_1",
         "rawType": "object",
         "type": "string"
        },
        {
         "name": "response_2",
         "rawType": "object",
         "type": "string"
        },
        {
         "name": "rougeL_f1",
         "rawType": "float64",
         "type": "float"
        }
       ],
       "ref": "c58b32a0-b021-40cc-9416-b0d843aea16d",
       "rows": [],
       "shape": {
        "columns": 4,
        "rows": 0
       }
      },
      "text/html": [
       "<div>\n",
       "<style scoped>\n",
       "    .dataframe tbody tr th:only-of-type {\n",
       "        vertical-align: middle;\n",
       "    }\n",
       "\n",
       "    .dataframe tbody tr th {\n",
       "        vertical-align: top;\n",
       "    }\n",
       "\n",
       "    .dataframe thead th {\n",
       "        text-align: right;\n",
       "    }\n",
       "</style>\n",
       "<table border=\"1\" class=\"dataframe\">\n",
       "  <thead>\n",
       "    <tr style=\"text-align: right;\">\n",
       "      <th></th>\n",
       "      <th>user_prompt</th>\n",
       "      <th>response_1</th>\n",
       "      <th>response_2</th>\n",
       "      <th>rougeL_f1</th>\n",
       "    </tr>\n",
       "  </thead>\n",
       "  <tbody>\n",
       "  </tbody>\n",
       "</table>\n",
       "</div>"
      ],
      "text/plain": [
       "Empty DataFrame\n",
       "Columns: [user_prompt, response_1, response_2, rougeL_f1]\n",
       "Index: []"
      ]
     },
     "execution_count": 24,
     "metadata": {},
     "output_type": "execute_result"
    }
   ],
   "source": [
    "from rouge_score import rouge_scorer\n",
    "\n",
    "root = \"/ltstorage/home/strich/STASC/\"\n",
    "folder_1 = \"outputs/25-08-12_12:40_qwen_2.5_1.5b\"\n",
    "folder_2 = \"outputs/25-08-12_12:43_qwen_2.5_1.5b\"\n",
    "\n",
    "with open(f\"{root}/{folder_1}/inference_log.json\", \"r\") as f:\n",
    "    data = json.load(f)\n",
    "df_json = pd.DataFrame(data)\n",
    "\n",
    "with open(f\"{root}/{folder_2}/inference_log.json\", \"r\") as f:\n",
    "    data = json.load(f)\n",
    "df_json_2 = pd.DataFrame(data)\n",
    "\n",
    "merged = df_json.merge(\n",
    "    df_json_2, on=[\"user_prompt\"], how=\"left\", suffixes=(\"_1\", \"_2\")\n",
    ")\n",
    "scorer = rouge_scorer.RougeScorer(['rougeL'], use_stemmer=True)\n",
    "rouge_scores = merged.apply(\n",
    "    lambda row: scorer.score(str(row[\"response_1\"]), str(row[\"response_2\"]))[\"rougeL\"].fmeasure,\n",
    "    axis=1\n",
    ")\n",
    "merged[\"rougeL_f1\"] = rouge_scores\n",
    "df_filtered = merged[merged[\"response_1\"] != merged[\"response_2\"]]\n",
    "df_filtered[[\"user_prompt\", \"response_1\", \"response_2\", \"rougeL_f1\"]]\n"
   ]
  }
 ],
 "metadata": {
  "kernelspec": {
   "display_name": "STASC (3.12.7)",
   "language": "python",
   "name": "python3"
  },
  "language_info": {
   "codemirror_mode": {
    "name": "ipython",
    "version": 3
   },
   "file_extension": ".py",
   "mimetype": "text/x-python",
   "name": "python",
   "nbconvert_exporter": "python",
   "pygments_lexer": "ipython3",
   "version": "3.12.7"
  }
 },
 "nbformat": 4,
 "nbformat_minor": 5
}
