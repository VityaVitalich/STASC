{
 "cells": [
  {
   "cell_type": "code",
   "execution_count": 12,
   "id": "0f60aa41",
   "metadata": {},
   "outputs": [],
   "source": [
    "from datasets import load_dataset, load_from_disk\n",
    "\n",
    "test = load_from_disk(\"/ltstorage/home/strich/STASC/outputs/25-08-18_10:37_qwen_2.5_1.5b/iteration_1\")\n",
    "train_test = test.train_test_split(test_size=0.2, seed=42)\n",
    "train_dataset = train_test['train']\n",
    "val_dataset = train_test['test']"
   ]
  },
  {
   "cell_type": "markdown",
   "id": "417c3ce0",
   "metadata": {},
   "source": [
    "test"
   ]
  },
  {
   "cell_type": "code",
   "execution_count": 14,
   "id": "60982301",
   "metadata": {},
   "outputs": [
    {
     "data": {
      "text/plain": [
       "DatasetDict({\n",
       "    train: Dataset({\n",
       "        features: ['question_id', 'question_text', 'reference', 'initial_generation', 'star_correction_1', 'messages'],\n",
       "        num_rows: 56\n",
       "    })\n",
       "    test: Dataset({\n",
       "        features: ['question_id', 'question_text', 'reference', 'initial_generation', 'star_correction_1', 'messages'],\n",
       "        num_rows: 14\n",
       "    })\n",
       "})"
      ]
     },
     "execution_count": 14,
     "metadata": {},
     "output_type": "execute_result"
    }
   ],
   "source": [
    "train_test"
   ]
  }
 ],
 "metadata": {
  "kernelspec": {
   "display_name": "STASC (3.12.7)",
   "language": "python",
   "name": "python3"
  },
  "language_info": {
   "codemirror_mode": {
    "name": "ipython",
    "version": 3
   },
   "file_extension": ".py",
   "mimetype": "text/x-python",
   "name": "python",
   "nbconvert_exporter": "python",
   "pygments_lexer": "ipython3",
   "version": "3.12.7"
  }
 },
 "nbformat": 4,
 "nbformat_minor": 5
}
